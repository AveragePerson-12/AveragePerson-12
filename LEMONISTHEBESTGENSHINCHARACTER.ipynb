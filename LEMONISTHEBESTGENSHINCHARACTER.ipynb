{
  "nbformat": 4,
  "nbformat_minor": 0,
  "metadata": {
    "colab": {
      "provenance": [],
      "toc_visible": true,
      "authorship_tag": "ABX9TyNUoqC+pPTfmuFkX6HyA8NS",
      "include_colab_link": true
    },
    "kernelspec": {
      "name": "python3",
      "display_name": "Python 3"
    },
    "language_info": {
      "name": "python"
    }
  },
  "cells": [
    {
      "cell_type": "markdown",
      "metadata": {
        "id": "view-in-github",
        "colab_type": "text"
      },
      "source": [
        "<a href=\"https://colab.research.google.com/github/AveragePerson-12/AveragePerson-12/blob/main/LEMONISTHEBESTGENSHINCHARACTER.ipynb\" target=\"_parent\"><img src=\"https://colab.research.google.com/assets/colab-badge.svg\" alt=\"Open In Colab\"/></a>"
      ]
    },
    {
      "cell_type": "code",
      "execution_count": null,
      "metadata": {
        "id": "KGnfDKgutrXU"
      },
      "outputs": [],
      "source": [
        "import pandas\n"
      ]
    },
    {
      "source": [
        "import sqlite3\n",
        "\n",
        "# Create a connection to the database (or create it if it doesn't exist)\n",
        "conn = sqlite3.connect('rpg_database.db')\n",
        "cursor = conn.cursor()\n",
        "\n",
        "# Create a table for characters\n",
        "cursor.execute('''\n",
        "    CREATE TABLE IF NOT EXISTS characters (\n",
        "        id INTEGER PRIMARY KEY,\n",
        "        name TEXT,\n",
        "        health INTEGER\n",
        "    )\n",
        "''')\n",
        "\n",
        "# Insert a character\n",
        "cursor.execute(\"INSERT INTO characters (name, health) VALUES (?, ?)\", (\"Hero\", 100))\n",
        "\n",
        "# Commit changes and close the connection\n",
        "conn.commit()\n",
        "conn.close()"
      ],
      "cell_type": "code",
      "metadata": {
        "id": "t7wzW6kjushC"
      },
      "execution_count": null,
      "outputs": []
    }
  ]
}